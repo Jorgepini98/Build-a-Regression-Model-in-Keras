{
 "cells": [
  {
   "cell_type": "code",
   "execution_count": 1,
   "metadata": {},
   "outputs": [],
   "source": [
    "# Import necessary libraries\n",
    "import pandas as pd\n",
    "import keras\n",
    "import numpy as np\n",
    "from sklearn.model_selection import train_test_split\n",
    "from sklearn.metrics import mean_squared_error\n",
    "\n",
    "from keras.models import Sequential\n",
    "from keras.layers import Dense\n",
    "from sklearn import preprocessing\n",
    "\n",
    "from joblib import Parallel, delayed"
   ]
  },
  {
   "cell_type": "code",
   "execution_count": null,
   "metadata": {},
   "outputs": [],
   "source": [
    "# Load dataset and separate features and target variable\n",
    "df = pd.read_csv('concrete_data.csv')  # Read the dataset from a CSV file\n",
    "\n",
    "# Normalize the entire dataset\n",
    "d = preprocessing.normalize(df)  # Apply normalization to scale the data between 0 and 1\n",
    "scaled_df = pd.DataFrame(d, columns=df.columns)  # Convert the normalized data back into a DataFrame\n",
    "\n",
    "# Split the normalized data into features (X) and target variable (y)\n",
    "X = scaled_df[scaled_df.columns[:-1]]  # Extract all columns except the last one as features\n",
    "y = scaled_df[scaled_df.columns[-1:]]  # Extract the last column as the target variable"
   ]
  },
  {
   "cell_type": "code",
   "execution_count": 3,
   "metadata": {},
   "outputs": [],
   "source": [
    "# Define input and hidden layer sizes\n",
    "input_neurons = df.columns[:-1].shape[0]  # Number of input features\n",
    "hidden_layer = 50  # Number of neurons in the hidden layer\n",
    "\n",
    "# Define regression model\n",
    "def regression_model():\n",
    "    # Create the neural network model\n",
    "    model = Sequential()\n",
    "    model.add(Dense(hidden_layer, activation='relu', input_shape=(input_neurons,)))  # Hidden layer with ReLU activation\n",
    "    model.add(Dense(1))  # Output layer with a single neuron for regression\n",
    "    \n",
    "    # Compile the model with Adam optimizer and mean squared error loss function\n",
    "    model.compile(optimizer='adam', loss='mean_squared_error')\n",
    "    return model\n"
   ]
  },
  {
   "cell_type": "code",
   "execution_count": 11,
   "metadata": {},
   "outputs": [],
   "source": [
    "# Define training parameters\n",
    "epochs = 100         # Number of epochs to train the model\n",
    "test_size = 0.3     # Proportion of the dataset reserved for testing\n",
    "n_repeats = 50      # Number of times the model will be trained and evaluated\n",
    "\n",
    "# Initialize a list to store mean squared errors from each repeat\n",
    "mse_list = [0] * n_repeats\n"
   ]
  },
  {
   "cell_type": "code",
   "execution_count": 12,
   "metadata": {},
   "outputs": [],
   "source": [
    "# Build the regression model\n",
    "model = regression_model()\n",
    "\n",
    "# Function to compute the mean squared error (MSE) for an iteration\n",
    "def mean_and_standardDeviation_of_MSE(iteration):\n",
    "    print(f\"Iteration: {iteration}\")\n",
    "    \n",
    "    # Split the data into training and testing sets\n",
    "    X_train, X_test, y_train, y_test = train_test_split(X, y, test_size=0.3, random_state=iteration)\n",
    "    \n",
    "    # Train the model\n",
    "    model = regression_model()  # Create a fresh model for each iteration\n",
    "    model.fit(X_train, y_train, epochs=epochs, verbose=0, batch_size=32)\n",
    "    \n",
    "    # Predict on the test data\n",
    "    y_pred = model.predict(X_test).flatten()\n",
    "    \n",
    "    # Calculate mean squared error\n",
    "    mse = mean_squared_error(y_test, y_pred)\n",
    "    return mse"
   ]
  },
  {
   "cell_type": "code",
   "execution_count": 6,
   "metadata": {},
   "outputs": [],
   "source": [
    "# Execute the function in parallel and save the results\n",
    "results = Parallel(n_jobs=-1)(delayed(mean_and_standardDeviation_of_MSE)(i) for i in range(n_repeats))"
   ]
  },
  {
   "cell_type": "code",
   "execution_count": 7,
   "metadata": {},
   "outputs": [
    {
     "data": {
      "text/plain": [
       "(5.023929223268045e-05, 1.1253402227062306e-05)"
      ]
     },
     "execution_count": 7,
     "metadata": {},
     "output_type": "execute_result"
    }
   ],
   "source": [
    "# Compute the mean and standard deviation of the results\n",
    "mse_mean = np.mean(results)\n",
    "mse_std = np.std(results)\n",
    "\n",
    "# Display the results\n",
    "mse_mean, mse_std"
   ]
  },
  {
   "cell_type": "code",
   "execution_count": 13,
   "metadata": {},
   "outputs": [],
   "source": [
    "# Execute the function in parallel and save the results\n",
    "results = Parallel(n_jobs=-1)(delayed(mean_and_standardDeviation_of_MSE)(i) for i in range(n_repeats))"
   ]
  },
  {
   "cell_type": "code",
   "execution_count": 14,
   "metadata": {},
   "outputs": [
    {
     "data": {
      "text/plain": [
       "(4.2714098144042946e-05, 8.741100135632135e-06)"
      ]
     },
     "execution_count": 14,
     "metadata": {},
     "output_type": "execute_result"
    }
   ],
   "source": [
    "# Compute the mean and standard deviation of the results\n",
    "mse_mean = np.mean(results)\n",
    "mse_std = np.std(results)\n",
    "\n",
    "# Display the results\n",
    "mse_mean, mse_std"
   ]
  }
 ],
 "metadata": {
  "kernelspec": {
   "display_name": "Proyect1",
   "language": "python",
   "name": "python3"
  },
  "language_info": {
   "codemirror_mode": {
    "name": "ipython",
    "version": 3
   },
   "file_extension": ".py",
   "mimetype": "text/x-python",
   "name": "python",
   "nbconvert_exporter": "python",
   "pygments_lexer": "ipython3",
   "version": "3.12.4"
  },
  "orig_nbformat": 4
 },
 "nbformat": 4,
 "nbformat_minor": 2
}
